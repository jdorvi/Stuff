{
 "cells": [
  {
   "cell_type": "markdown",
   "metadata": {},
   "source": [
    "Monte Carlo - Shoreline Change Simulations"
   ]
  },
  {
   "cell_type": "markdown",
   "metadata": {},
   "source": [
    "Step 1 <br>\n",
    "Simulate meteorological record (storms and periods of calm) <br>\n",
    "<enumerate>\n",
    "<item> 1) Wave height\n",
    "<item> 2) Wave period\n",
    "<item> 3) SWEL condition\n",
    "<item> 4) Time between storm events"
   ]
  },
  {
   "cell_type": "code",
   "execution_count": 2,
   "metadata": {
    "collapsed": true
   },
   "outputs": [],
   "source": [
    "import numpy as np\n",
    "sea_level = 0.5"
   ]
  },
  {
   "cell_type": "code",
   "execution_count": 3,
   "metadata": {
    "collapsed": true
   },
   "outputs": [],
   "source": [
    "def wave_height():\n",
    "    hs = np.random.random()\n",
    "    return hs\n",
    "\n",
    "def wave_period(hs):\n",
    "    tps = np.random.random()\n",
    "    return tps\n",
    "\n",
    "def water_elevation(hs, tps):\n",
    "    swel = np.random.random()\n",
    "    return swel\n",
    "\n",
    "def storm_duration(hs, swel):\n",
    "    st_dur = np.random.random()\n",
    "    return st_dur\n",
    "\n",
    "def inter_storm_duration():\n",
    "    int_st_dur = np.random.random()\n",
    "    return int_st_dur\n"
   ]
  },
  {
   "cell_type": "code",
   "execution_count": 44,
   "metadata": {
    "collapsed": false,
    "scrolled": true
   },
   "outputs": [],
   "source": [
    "STORMNUMBER = 0\n",
    "SUM_TIME = 0\n",
    "MAX_TIME = 100\n",
    "STORMS = {}\n",
    "while SUM_TIME < MAX_TIME:\n",
    "    # Define paramters\n",
    "    hs = wave_height()\n",
    "    tps = wave_period(hs)\n",
    "    swel = water_elevation(hs, tps)\n",
    "    st_dur = storm_duration(hs, swel)\n",
    "    int_st_dur = inter_storm_duration()\n",
    "    # Assign parameters to storm\n",
    "    STORMS[STORMNUMBER] = {'HS':hs, 'TPS':tps, 'SWEL':swel, 'DURATION':st_dur, 'RECOVER':int_st_dur}\n",
    "    # Increment total time\n",
    "    increment = st_dur + int_st_dur\n",
    "    SUM_TIME += increment\n",
    "    STORMNUMBER += 1"
   ]
  },
  {
   "cell_type": "code",
   "execution_count": 33,
   "metadata": {
    "collapsed": false
   },
   "outputs": [
    {
     "data": {
      "text/plain": [
       "95"
      ]
     },
     "execution_count": 33,
     "metadata": {},
     "output_type": "execute_result"
    }
   ],
   "source": [
    "len(STORMS)"
   ]
  },
  {
   "cell_type": "markdown",
   "metadata": {},
   "source": [
    "Step 2 <br> \n",
    "Transform offshore wave conditions to onshore wave conditions (SWAN)<br>"
   ]
  },
  {
   "cell_type": "markdown",
   "metadata": {},
   "source": [
    "Step 3<br>\n",
    "Erode shoreline based on wave conditions at shoreline and duration of storm<br>\n"
   ]
  },
  {
   "cell_type": "code",
   "execution_count": 34,
   "metadata": {
    "collapsed": false
   },
   "outputs": [],
   "source": [
    "def Erosion(hs, tps, swel, duration, shoreline, sea_level):\n",
    "    erosion = (hs+tps+swel)*duration*abs(sea_level) #\"some function using hs, tps, swel, and duration\"\n",
    "    return erosion\n"
   ]
  },
  {
   "cell_type": "markdown",
   "metadata": {},
   "source": [
    "Step 4<br>\n",
    "Allow shoreline to accreate based on sea-level and period of calm<br>\n",
    "based on equilibrium shoreline theory<br>"
   ]
  },
  {
   "cell_type": "code",
   "execution_count": 35,
   "metadata": {
    "collapsed": true
   },
   "outputs": [],
   "source": [
    "def Recovery(int_storm_dur, shoreline, sea_level):\n",
    "    recovery = int_storm_dur*np.e**abs(sea_level)\n",
    "    return recovery"
   ]
  },
  {
   "cell_type": "markdown",
   "metadata": {},
   "source": [
    "Step 5<br>\n",
    "Repeat steps 3 and 4 for entire climate record<br>"
   ]
  },
  {
   "cell_type": "code",
   "execution_count": 45,
   "metadata": {
    "collapsed": false
   },
   "outputs": [],
   "source": [
    "starting_position = 1\n",
    "shoreline = [starting_position]\n",
    "shoretime = [0]\n",
    "i = 0\n",
    "for storm in STORMS:\n",
    "    # Erode the shoreline\n",
    "    erosion = Erosion(STORMS[storm]['HS'],\n",
    "                      STORMS[storm]['TPS'],\n",
    "                      STORMS[storm]['SWEL'],\n",
    "                      STORMS[storm]['DURATION'],\n",
    "                      shoreline[i],\n",
    "                      sea_level)\n",
    "    eroded_shoreline = shoreline[i]-erosion\n",
    "    shoreline.append(eroded_shoreline)\n",
    "    shoretime.append(shoretime[i]+STORMS[storm]['DURATION'])\n",
    "    i += 1\n",
    "    # Allow shoreline to recover\n",
    "    recovery = Recovery(STORMS[storm]['RECOVER'],\n",
    "                        shoreline[i],\n",
    "                        sea_level)\n",
    "    recovered_shoreline = shoreline[i]+recovery\n",
    "    shoreline.append(recovered_shoreline)\n",
    "    shoretime.append(shoretime[i]+STORMS[storm]['RECOVER'])\n",
    "    i += 1"
   ]
  },
  {
   "cell_type": "markdown",
   "metadata": {},
   "source": [
    "Step 6<br>\n",
    "Run 1000s of simulations for different sythetic climate records<br>\n"
   ]
  },
  {
   "cell_type": "markdown",
   "metadata": {},
   "source": [
    "Step 7<br>\n",
    "Evaluate storm ensamble to get final probability distributions<br>"
   ]
  },
  {
   "cell_type": "code",
   "execution_count": 41,
   "metadata": {
    "collapsed": false
   },
   "outputs": [
    {
     "data": {
      "text/plain": [
       "[<matplotlib.lines.Line2D at 0x7f78c41b5208>]"
      ]
     },
     "execution_count": 41,
     "metadata": {},
     "output_type": "execute_result"
    },
    {
     "data": {
      "image/png": "[encoded data removed]",
      "text/plain": [
       "<matplotlib.figure.Figure at 0x7f78c43ae978>"
      ]
     },
     "metadata": {},
     "output_type": "display_data"
    }
   ],
   "source": [
    "%matplotlib inline\n",
    "from matplotlib.pyplot import plot\n",
    "plot(shoretime, shoreline)"
   ]
  },
  {
   "cell_type": "code",
   "execution_count": 46,
   "metadata": {
    "collapsed": false
   },
   "outputs": [
    {
     "data": {
      "text/plain": [
       "[<matplotlib.lines.Line2D at 0x7f78c40f7898>]"
      ]
     },
     "execution_count": 46,
     "metadata": {},
     "output_type": "execute_result"
    },
    {
     "data": {
      "image/png": "[encoded data removed]",
      "text/plain": [
       "<matplotlib.figure.Figure at 0x7f78c412a470>"
      ]
     },
     "metadata": {},
     "output_type": "display_data"
    }
   ],
   "source": [
    "plot(shoretime, shoreline)"
   ]
  },
  {
   "cell_type": "code",
   "execution_count": null,
   "metadata": {
    "collapsed": true
   },
   "outputs": [],
   "source": []
  }
 ],
 "metadata": {
  "kernelspec": {
   "display_name": "Python 3",
   "language": "python",
   "name": "python3"
  },
  "language_info": {
   "codemirror_mode": {
    "name": "ipython",
    "version": 3
   },
   "file_extension": ".py",
   "mimetype": "text/x-python",
   "name": "python",
   "nbconvert_exporter": "python",
   "pygments_lexer": "ipython3",
   "version": "3.5.1"
  }
 },
 "nbformat": 4,
 "nbformat_minor": 0
}
